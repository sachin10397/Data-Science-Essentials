{
 "cells": [
  {
   "cell_type": "code",
   "execution_count": null,
   "metadata": {},
   "outputs": [],
   "source": [
    "# imports\n",
    "import numpy as np\n",
    "import matplotlib.pyplot as plt"
   ]
  },
  {
   "cell_type": "code",
   "execution_count": 4,
   "metadata": {},
   "outputs": [
    {
     "data": {
      "image/png": "[encoded data removed]",
      "text/plain": [
       "<Figure size 432x288 with 1 Axes>"
      ]
     },
     "metadata": {
      "needs_background": "light"
     },
     "output_type": "display_data"
    }
   ],
   "source": [
    "\n",
    "all_walks = []\n",
    "for i in range(500) :\n",
    "    random_walk = [0]\n",
    "    for x in range(100) :\n",
    "        step = random_walk[-1]\n",
    "        dice = np.random.randint(1,7)\n",
    "        if dice <= 2:\n",
    "            step = max(0, step - 1)\n",
    "        elif dice <= 5:\n",
    "            step = step + 1\n",
    "        else:\n",
    "            step = step + np.random.randint(1,7)\n",
    "        if np.random.rand() <= 0.001 :\n",
    "            step = 0\n",
    "        random_walk.append(step)\n",
    "    all_walks.append(random_walk)\n",
    "\n",
    "# Create and plot np_aw_t\n",
    "np_aw_t = np.transpose(np.array(all_walks))\n",
    "\n",
    "# Select last row from np_aw_t: ends\n",
    "ends = np.array(np_aw_t[-1])\n",
    "\n",
    "# Plot histogram of ends, display plot\n",
    "plt.hist(ends)\n",
    "plt.show()"
   ]
  },
  {
   "cell_type": "code",
   "execution_count": 14,
   "metadata": {},
   "outputs": [
    {
     "data": {
      "text/plain": [
       "array([ 93,  81,  85,  48,  57,  96,  62,  48,  70,  58,  74,  73,  77,\n",
       "        88,  59,  53,  54,  84,   0,  72,  68,  73,  70, 108,  15,  89,\n",
       "        61,  79,  63,  96,  49,  74,  82,  85,  77,  69,  78,  76,  97,\n",
       "        45,  56,  59,  30,  82,  71,  85, 106,  28, 103,  77,  69,  88,\n",
       "        72,  66,  61, 104,  60,  95,  64,  70,  48,   2,  75,  71,  67,\n",
       "        69,  74, 106,  58,  74,  73,  70, 111, 104,  55,  59,  67,  88,\n",
       "        69,  53,  76,  69,  73,  82, 112,  85,  78,  67,  88,  76,  95,\n",
       "        76,  50,  44,  52,  81,  39,  82,  49,  82,  62,  85,  90,  76,\n",
       "        96,  83,  40,  31,  67,  37,  53,  67,  61,  65,  70,  92,  79,\n",
       "        74,  98,  43,  89,  86,  74,  88,  85,  71,  65,  86,  32, 103,\n",
       "        73,  75,  60,  77,  62,  83,  69,  49,  80,  81,  78,  76,  77,\n",
       "        92,  74,  64, 100,  92,  89,  87,  83,  65,  74,  64, 114,  78,\n",
       "        89,  51, 102,  71,  55,  73,  59,  69,  96,  80,  48,  74,  74,\n",
       "        67,  80,  70,  50,  84,  86,  99,  94, 117,  53,  65,  41,   4,\n",
       "        93,  86,  88,  60,  70,  60,  49,  83,  74,  80,  98, 105,  64,\n",
       "        74,  58,  66,  69,  79,  82,  82,  65,  58,  64,  78,  66,  88,\n",
       "        76,  49,   2,  51,  66,  68,  79,  83,  46,  92,  70,  82,  61,\n",
       "        94,  79,  85, 116,  80,  80,  98,  83,  75,  72,  86,  74,  64,\n",
       "        54,  70,  79,   0,  83,  90,  89,  54,  63,  66,  81,  96,  62,\n",
       "        86,  81,  76,  70,  86,  74,  46,  94,  52,  70,  90,  89,  86,\n",
       "        72, 105,  95,  65,  90,  62,  77,  69,  96,  80,  88,  82,  75,\n",
       "        73,  91,  78,  74,  65,  72,  72,  93,  24,  52,  78,  66,  21,\n",
       "        81,  64,  75,  92,  62,  90, 100,  68,  49,  85,  76,  59,  46,\n",
       "        75,  72,  74,  52,  44,  40,  85, 103,  79, 103,  66,  78,  84,\n",
       "        89,  51,  65,  96,  81,  64,  95,  56,  65,  62, 104,  60,  10,\n",
       "        93,  71,  76,  65,  84,  90,  93,  80,  39,  66,  74,  70,  80,\n",
       "        69,  77,  66,  78,  81,  59,  66,  67,  63,  33,  81,  60,  61,\n",
       "        84,  93, 100,  85,  52,  99,  89,  76,  35,  31,  79,  64,  85,\n",
       "        82,  72, 110,  74,   1,  69,  71,  80,  26,  84,  73,  52,  54,\n",
       "        92,  90,  86,  81,  90,  75,  33,  54,  63, 119,  73,  73,  47,\n",
       "        67,  75,  48,  87,  81,  82,   5,   4,  75,  74, 102,  41,  48,\n",
       "        58,  90,  70,  51,  85, 110,  50,  96,  68,  50,  61, 101,  84,\n",
       "        62,   7,  77,  66,  58,  72,  77,  90,  60,  66,  83,  79,  87,\n",
       "        76,  68, 101,  83,  85,  76,  80,  88,  57,  81,  60,   6,  78,\n",
       "        70,  63,  39,  49,  70,  60, 112,  50,  48,  93,  60,  90,  26,\n",
       "        79,  68,  69,  70,  56,  46,  67,  69,  73,  62,  65,  66,  67,\n",
       "        80,  77,  82,  85,  89,  81,  71,  80,  88, 109,  74,  90,  79,\n",
       "        76,  67,  88,  56,  53,  75,  81,  69,  95,  72,  66,  90,  77,\n",
       "        59,  86,  53,  50,  66,  93])"
      ]
     },
     "execution_count": 14,
     "metadata": {},
     "output_type": "execute_result"
    }
   ],
   "source": [
    "ends"
   ]
  },
  {
   "cell_type": "code",
   "execution_count": 19,
   "metadata": {},
   "outputs": [
    {
     "data": {
      "text/plain": [
       "array([ 93,  81,  85,  96,  62,  70,  74,  73,  77,  88,  84,  72,  68,\n",
       "        73,  70, 108,  89,  61,  79,  63,  96,  74,  82,  85,  77,  69,\n",
       "        78,  76,  97,  82,  71,  85, 106, 103,  77,  69,  88,  72,  66,\n",
       "        61, 104,  60,  95,  64,  70,  75,  71,  67,  69,  74, 106,  74,\n",
       "        73,  70, 111, 104,  67,  88,  69,  76,  69,  73,  82, 112,  85,\n",
       "        78,  67,  88,  76,  95,  76,  81,  82,  82,  62,  85,  90,  76,\n",
       "        96,  83,  67,  67,  61,  65,  70,  92,  79,  74,  98,  89,  86,\n",
       "        74,  88,  85,  71,  65,  86, 103,  73,  75,  60,  77,  62,  83,\n",
       "        69,  80,  81,  78,  76,  77,  92,  74,  64, 100,  92,  89,  87,\n",
       "        83,  65,  74,  64, 114,  78,  89, 102,  71,  73,  69,  96,  80,\n",
       "        74,  74,  67,  80,  70,  84,  86,  99,  94, 117,  65,  93,  86,\n",
       "        88,  60,  70,  60,  83,  74,  80,  98, 105,  64,  74,  66,  69,\n",
       "        79,  82,  82,  65,  64,  78,  66,  88,  76,  66,  68,  79,  83,\n",
       "        92,  70,  82,  61,  94,  79,  85, 116,  80,  80,  98,  83,  75,\n",
       "        72,  86,  74,  64,  70,  79,  83,  90,  89,  63,  66,  81,  96,\n",
       "        62,  86,  81,  76,  70,  86,  74,  94,  70,  90,  89,  86,  72,\n",
       "       105,  95,  65,  90,  62,  77,  69,  96,  80,  88,  82,  75,  73,\n",
       "        91,  78,  74,  65,  72,  72,  93,  78,  66,  81,  64,  75,  92,\n",
       "        62,  90, 100,  68,  85,  76,  75,  72,  74,  85, 103,  79, 103,\n",
       "        66,  78,  84,  89,  65,  96,  81,  64,  95,  65,  62, 104,  60,\n",
       "        93,  71,  76,  65,  84,  90,  93,  80,  66,  74,  70,  80,  69,\n",
       "        77,  66,  78,  81,  66,  67,  63,  81,  60,  61,  84,  93, 100,\n",
       "        85,  99,  89,  76,  79,  64,  85,  82,  72, 110,  74,  69,  71,\n",
       "        80,  84,  73,  92,  90,  86,  81,  90,  75,  63, 119,  73,  73,\n",
       "        67,  75,  87,  81,  82,  75,  74, 102,  90,  70,  85, 110,  96,\n",
       "        68,  61, 101,  84,  62,  77,  66,  72,  77,  90,  60,  66,  83,\n",
       "        79,  87,  76,  68, 101,  83,  85,  76,  80,  88,  81,  60,  78,\n",
       "        70,  63,  70,  60, 112,  93,  60,  90,  79,  68,  69,  70,  67,\n",
       "        69,  73,  62,  65,  66,  67,  80,  77,  82,  85,  89,  81,  71,\n",
       "        80,  88, 109,  74,  90,  79,  76,  67,  88,  75,  81,  69,  95,\n",
       "        72,  66,  90,  77,  86,  66,  93])"
      ]
     },
     "execution_count": 19,
     "metadata": {},
     "output_type": "execute_result"
    }
   ],
   "source": [
    "ends[ends >= 60]"
   ]
  },
  {
   "cell_type": "code",
   "execution_count": 20,
   "metadata": {
    "tags": [
     "HI"
    ]
   },
   "outputs": [
    {
     "data": {
      "text/plain": [
       "397"
      ]
     },
     "execution_count": 20,
     "metadata": {},
     "output_type": "execute_result"
    }
   ],
   "source": [
    "len(ends[ends >= 60])"
   ]
  },
  {
   "cell_type": "markdown",
   "metadata": {},
   "source": [
    "# So the probability of reaching step 60 is 397/ 500 i.e 79%"
   ]
  }
 ],
 "metadata": {
  "kernelspec": {
   "display_name": "Python 3",
   "language": "python",
   "name": "python3"
  },
  "language_info": {
   "codemirror_mode": {
    "name": "ipython",
    "version": 3
   },
   "file_extension": ".py",
   "mimetype": "text/x-python",
   "name": "python",
   "nbconvert_exporter": "python",
   "pygments_lexer": "ipython3",
   "version": "3.7.3"
  }
 },
 "nbformat": 4,
 "nbformat_minor": 2
}
